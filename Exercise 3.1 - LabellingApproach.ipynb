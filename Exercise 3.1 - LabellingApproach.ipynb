{
 "cells": [
  {
   "cell_type": "markdown",
   "metadata": {},
   "source": [
    "# Creating Labels"
   ]
  },
  {
   "cell_type": "markdown",
   "metadata": {},
   "source": [
    "Import Resources"
   ]
  },
  {
   "cell_type": "code",
   "execution_count": 43,
   "metadata": {},
   "outputs": [],
   "source": [
    "import uproot as up\n",
    "import numpy as np \n",
    "import pypdt as pdt #this package contains particle id numbers if not installed, uncomment next 2 lines\n",
    "import matplotlib.pyplot as plt\n",
    "import time\n",
    "\n",
    "#import sys\n",
    "#!{sys.executable} -m pip install --user pypdt"
   ]
  },
  {
   "cell_type": "code",
   "execution_count": 44,
   "metadata": {},
   "outputs": [
    {
     "name": "stdout",
     "output_type": "stream",
     "text": [
      "[b'PDtree;18', b'PDtree;17']\n",
      "[b'runNumber', b'lumiSection', b'eventNumber', b'nMuons', b'muoPt', b'muoEta', b'muoPhi', b'muoE', b'muoTrk', b'muoCharge', b'muoType', b'nElectrons', b'nJets', b'jetPt', b'jetEta', b'jetPhi', b'jetE', b'jetCSV', b'jetTCHE', b'jetTrg', b'jetPF', b'jetNDau', b'jetNHF', b'jetNEF', b'jetCHF', b'jetCEF', b'jetNCH', b'nTags', b'tagJet', b'tagType', b'tagProb', b'nPF', b'pfcPt', b'pfcEta', b'pfcPhi', b'pfcE', b'pfcCharge', b'pfcJet', b'pfcTrk', b'nTracks', b'trkPt', b'trkEta', b'trkPhi', b'trkCharge', b'trkType', b'trkNext', b'trkPFC', b'trkJet', b'trkPVtx', b'trkQuality', b'trkHitPattern', b'trkLayPattern', b'trkNormChi2', b'trkPtError', b'trkDxy', b'trkDz', b'trkExy', b'trkEz', b'trkVtxPx', b'trkVtxPy', b'trkVtxPz', b'nPVTotal', b'nPVertices', b'pvtX', b'pvtY', b'pvtZ', b'pvtSxx', b'pvtSyy', b'pvtSzz', b'pvtSxy', b'pvtSxz', b'pvtSyz', b'pvtNTracks', b'pvtNormChi2', b'pvtBadQuality', b'nSVertices', b'svtX', b'svtY', b'svtZ', b'svtSxx', b'svtSyy', b'svtSzz', b'svtSxy', b'svtSxz', b'svtSyz', b'svtDirX', b'svtDirY', b'svtDirZ', b'svtType', b'svtNTracks', b'svtChi2', b'svtNDOF', b'svtMass', b'svtDist2D', b'svtSigma2D', b'svtDist3D', b'svtSigma3D', b'svtJet', b'svtBadQuality', b'nCompVts', b'nTkIPs', b'tipTrk', b'tipSVtx', b'tipMass', b'tipDxy', b'tipDz', b'tipExy', b'tipEz', b'nVtxPs', b'tvpTip', b'tvpPt', b'tvpEta', b'tvpPhi', b'nGenP', b'genId', b'genStatus', b'genMother', b'genPartner', b'genPt', b'genEta', b'genPhi', b'genE', b'genCharge', b'genMass', b'genVx', b'genVy', b'genVz']\n"
     ]
    }
   ],
   "source": [
    "#get data\n",
    "file = up.open(\"skim_BsToJPsiPhi_2017_DCAP_10000.root\")\n",
    "print(file.keys())\n",
    "data = file[\"PDtree\"]\n",
    "print(data.keys())"
   ]
  },
  {
   "cell_type": "markdown",
   "metadata": {},
   "source": [
    "### Gen Charged Particles"
   ]
  },
  {
   "cell_type": "code",
   "execution_count": 45,
   "metadata": {},
   "outputs": [],
   "source": [
    "#Generated Particles\n",
    "NGenP = data.arrays([\"nGenP\"])[b'nGenP']\n",
    "GenId = data.arrays([\"genId\"])[b'genId']\n",
    "GenStatus = data.arrays([\"genStatus\"])[b'genStatus'] #status in the simulation, what does that mean?\n",
    "GenMother = data.arrays([\"genMother\"])[b'genMother'] #position  in this same block of the mother particle\n",
    "GenPartner = data.arrays([\"genPartner\"])[b'genPartner']\n",
    "GenPt = data.arrays([\"genPt\"])[b'genPt']\n",
    "GenEta = data.arrays([\"genEta\"])[b'genEta']\n",
    "GenPhi = data.arrays([\"genPhi\"])[b'genPhi']\n",
    "GenE = data.arrays([\"genE\"])[b'genE']\n",
    "GenCharge = data.arrays([\"genCharge\"])[b'genCharge']\n",
    "GenMass = data.arrays([\"genMass\"])[b'genMass']\n",
    "GenVx = data.arrays([\"genVx\"])[b'genVx'] #production point\n",
    "GenVy = data.arrays([\"genVy\"])[b'genVy']\n",
    "GenVz = data.arrays([\"genVz\"])[b'genVz']"
   ]
  },
  {
   "cell_type": "code",
   "execution_count": 46,
   "metadata": {},
   "outputs": [],
   "source": [
    "def get_charge(N):\n",
    "    if pdt.get(N) == None and pdt.get(-N) == None:\n",
    "        print(\"what is this particle \", N)\n",
    "        return False\n",
    "    elif pdt.get(N) == None:\n",
    "        return str(-pdt.get(-N).charge) + \" particle: anti-\" +pdt.get(-N).name #the opposite charge \n",
    "    return str(pdt.get(N).charge) + \" particle: \" +pdt.get(N).name"
   ]
  },
  {
   "cell_type": "markdown",
   "metadata": {},
   "source": [
    "Ouick look on charged particles"
   ]
  },
  {
   "cell_type": "code",
   "execution_count": 68,
   "metadata": {},
   "outputs": [
    {
     "name": "stdout",
     "output_type": "stream",
     "text": [
      "No:  0  Lund code:  2212 charge:  1.0 particle: p+\n",
      "No:  1  Lund code:  2212 charge:  1.0 particle: p+\n",
      "No:  2  Lund code:  431 charge:  1.0 particle: D(s)+\n",
      "No:  3  Lund code:  2212 charge:  1.0 particle: p+\n",
      "No:  4  Lund code:  -4122 charge:  -1.0 particle: anti-Lambda(c)+\n",
      "No:  5  Lund code:  2212 charge:  1.0 particle: p+\n",
      "No:  6  Lund code:  2212 charge:  1.0 particle: p+\n",
      "No:  7  Lund code:  2212 charge:  1.0 particle: p+\n",
      "No:  8  Lund code:  -523 charge:  -1.0 particle: anti-B*+\n",
      "No:  9  Lund code:  2212 charge:  1.0 particle: p+\n"
     ]
    }
   ],
   "source": [
    "index = GenCharge != 0\n",
    "charged = np.concatenate((GenId[index]))\n",
    "for i,e in enumerate(charged[:10]):\n",
    "    print(\"No: \",i, \" Lund code: \",e, \"charge: \",get_charge(e))"
   ]
  },
  {
   "cell_type": "code",
   "execution_count": 69,
   "metadata": {},
   "outputs": [
    {
     "data": {
      "text/plain": [
       "array([ True,  True, False, False, False, False, False, False, False,\n",
       "       False, False, False, False, False, False, False, False, False,\n",
       "       False, False, False, False, False, False, False, False, False,\n",
       "       False, False, False, False, False, False, False, False, False,\n",
       "       False, False, False, False, False, False, False, False,  True,\n",
       "       False, False,  True, False, False, False,  True, False,  True,\n",
       "        True, False, False, False, False, False, False, False, False,\n",
       "        True, False, False,  True,  True, False, False, False,  True,\n",
       "       False, False, False,  True,  True,  True,  True,  True, False,\n",
       "       False,  True,  True,  True,  True, False,  True, False,  True,\n",
       "       False,  True, False, False, False, False,  True,  True, False,\n",
       "        True,  True])"
      ]
     },
     "execution_count": 69,
     "metadata": {},
     "output_type": "execute_result"
    }
   ],
   "source": [
    "index[0]"
   ]
  },
  {
   "cell_type": "markdown",
   "metadata": {},
   "source": [
    "Filter out uncharged particles:"
   ]
  },
  {
   "cell_type": "code",
   "execution_count": 48,
   "metadata": {},
   "outputs": [
    {
     "name": "stdout",
     "output_type": "stream",
     "text": [
      "236552  charged generated particles out of  808189  particles\n"
     ]
    }
   ],
   "source": [
    "index = GenCharge != 0\n",
    "print(sum(np.concatenate(index)), \" charged generated particles out of \", len(GenId.content), \" particles\")"
   ]
  },
  {
   "cell_type": "code",
   "execution_count": 49,
   "metadata": {},
   "outputs": [],
   "source": [
    "NGenP_c = index.sum() #number of charged particles in each event --> NUMPY ARRAY"
   ]
  },
  {
   "cell_type": "code",
   "execution_count": 50,
   "metadata": {},
   "outputs": [],
   "source": [
    "GenId_c = GenId[index];       GenStatus_c = GenStatus[index];\n",
    "GenMother_c = GenMother[index];                          GenPartner_c = GenPartner[index]; \n",
    "GenPt_c = GenPt[index];      GenEta_c  = GenEta[index];          GenPhi_c = GenPhi[index];\n",
    "GenE_c = GenE[index];        GenCharge_c = GenCharge[index];   GenMass_c = GenMass[index];\n",
    "GenVx_c = GenVx[index];      GenVy_c = GenVy[index];           GenVz_c = GenVz[index]; #--> JAGGED ARRAYS"
   ]
  },
  {
   "cell_type": "markdown",
   "metadata": {},
   "source": [
    "Double check:"
   ]
  },
  {
   "cell_type": "code",
   "execution_count": 51,
   "metadata": {
    "scrolled": true
   },
   "outputs": [
    {
     "name": "stdout",
     "output_type": "stream",
     "text": [
      "10000\n"
     ]
    }
   ],
   "source": [
    "print(sum(GenId_c.counts == NGenP_c)) "
   ]
  },
  {
   "cell_type": "markdown",
   "metadata": {},
   "source": [
    "### Tracks"
   ]
  },
  {
   "cell_type": "code",
   "execution_count": 52,
   "metadata": {},
   "outputs": [],
   "source": [
    "Ntracks = data.arrays([\"nTracks\"])[b'nTracks']\n",
    "TrkPt = data.arrays([\"trkPt\"])[b'trkPt']\n",
    "TrkEta = data.arrays([\"trkEta\"])[b'trkEta']\n",
    "TrkPhi = data.arrays([\"trkPhi\"])[b'trkPhi']\n",
    "TrkCharge = data.arrays([\"trkCharge\"])[b'trkCharge']\n",
    "TrkType = data.arrays([\"trkType\"])[b'trkType']\n",
    "TrkNext = data.arrays([\"trkNext\"])[b'trkNext']\n",
    "TrkPFC = data.arrays([\"trkPFC\"])[b'trkPFC']\n",
    "TrkJet = data.arrays([\"trkJet\"])[b'trkJet']\n",
    "TrkPVtx = data.arrays([\"trkPVtx\"])[b'trkPVtx']\n",
    "TrkQuality = data.arrays([\"trkQuality\"])[b'trkQuality']\n",
    "TrkHitPattern = data.arrays([\"trkHitPattern\"])[b'trkHitPattern']\n",
    "TrkLayPattern = data.arrays([\"trkLayPattern\"])[b'trkLayPattern']\n",
    "TrkNormChi2 = data.arrays([\"trkNormChi2\"])[b'trkNormChi2']\n",
    "TrkPtError = data.arrays([\"trkPtError\"])[b'trkPtError']\n",
    "TrkDxy = data.arrays([\"trkDxy\"])[b'trkDxy'] #impact parameter\n",
    "TrkDz = data.arrays([\"trkDz\"])[b'trkDz']\n",
    "TrkExy = data.arrays([\"trkExy\"])[b'trkExy']\n",
    "TrkEz = data.arrays([\"trkEz\"])[b'trkEz']                              \n",
    "TrkVtxPx = data.arrays([\"trkVtxPx\"])[b'trkVtxPx']\n",
    "TrkVtxPy = data.arrays([\"trkVtxPy\"])[b'trkVtxPy']\n",
    "TrkVtxPz = data.arrays([\"trkVtxPz\"])[b'trkVtxPz']               "
   ]
  },
  {
   "cell_type": "code",
   "execution_count": 53,
   "metadata": {},
   "outputs": [
    {
     "name": "stdout",
     "output_type": "stream",
     "text": [
      "21 out of  5291784  tracks are neutral? --> Get rid of them\n"
     ]
    }
   ],
   "source": [
    "print(sum((np.concatenate(TrkCharge) == 0)), \"out of \", len(np.concatenate(TrkCharge)) ,\" tracks are neutral? --> Get rid of them\")\n",
    "index0 = TrkCharge != 0 #"
   ]
  },
  {
   "cell_type": "markdown",
   "metadata": {},
   "source": [
    "Get only \"tracker tracks\":"
   ]
  },
  {
   "cell_type": "code",
   "execution_count": 54,
   "metadata": {},
   "outputs": [
    {
     "name": "stdout",
     "output_type": "stream",
     "text": [
      "92840 tracks filtered out\n"
     ]
    }
   ],
   "source": [
    "#track type  \n",
    "TrkType_dict =   { 1: \"general\",2: \"packed\", 4:\"pflink\",8:\"rclink\",16:\"gplink\",1024:\"muInner\"}\n",
    "                  #this later part is not valid (for some reason !?)\n",
    "                  #2048: \"muStandalone\",4096:\"muGlobal\",8192:\"muBest\",16384:\"muPF\",32768:\"muReco\"}\n",
    "\n",
    "index = index0 == ((TrkType == 2) + (TrkType == 4) + (TrkType == 8) + (TrkType == 16) + (TrkType == 1024))\n",
    "print(len(np.concatenate(index))-sum(np.concatenate(index)), \"tracks filtered out\")\n",
    "#should be 92819   +   21"
   ]
  },
  {
   "cell_type": "code",
   "execution_count": 55,
   "metadata": {},
   "outputs": [
    {
     "name": "stdout",
     "output_type": "stream",
     "text": [
      "[602 433 419 ... 437 323 605]\n"
     ]
    }
   ],
   "source": [
    "Ntracks = TrkType.counts\n",
    "print(Ntracks)\n",
    "#print(sum(Ntracks == Ntracks2), \"events have the same #tracks after the filter\")"
   ]
  },
  {
   "cell_type": "code",
   "execution_count": 56,
   "metadata": {},
   "outputs": [],
   "source": [
    "TrkPt = TrkPt[index]; TrkEta = TrkEta[index]; TrkPhi = TrkPhi[index];\n",
    "TrkCharge = TrkCharge[index] ; TrkType = TrkType[index]"
   ]
  },
  {
   "cell_type": "markdown",
   "metadata": {},
   "source": [
    "### Association of Tracks and GenP's\n",
    "Look on the first event"
   ]
  },
  {
   "cell_type": "code",
   "execution_count": 71,
   "metadata": {},
   "outputs": [
    {
     "name": "stdout",
     "output_type": "stream",
     "text": [
      "[-0.9779962  1.5496689  1.4167303  1.1625721 -1.647084   0.1474044\n",
      " -1.7574999  2.3864863]\n",
      "[-1.4497036 -0.9433057 -0.7675041 -0.5422162 -1.3629353 -4.552915\n",
      " -1.5938219 -2.9382882]\n",
      "first two particles:\n",
      "what is this particle  6500.0\n",
      "what is this particle  6500.0\n",
      "None\n"
     ]
    },
    {
     "data": {
      "image/png": "[encoded data removed]",
      "text/plain": [
       "<matplotlib.figure.Figure at 0x7f6536f95080>"
      ]
     },
     "metadata": {
      "needs_background": "light"
     },
     "output_type": "display_data"
    }
   ],
   "source": [
    "eventN = 0\n",
    "plt.plot(TrkEta[eventN],TrkPhi[eventN],'.',c=\"b\")\n",
    "plt.plot(GenEta_c[eventN][2:],GenPhi_c[eventN][2:],'.',c = \"r\") #first two genparticles are too far\n",
    "print(TrkEta[eventN][2:10])\n",
    "print(GenEta_c[eventN][2:10])\n",
    "\n",
    "print(\"first two particles:\")\n",
    "get_charge(GenE_c[eventN][0])\n",
    "get_charge(GenE_c[eventN][1])\n",
    "print(pdt.get(6500))\n",
    "#plt.show()"
   ]
  },
  {
   "cell_type": "code",
   "execution_count": 58,
   "metadata": {},
   "outputs": [
    {
     "data": {
      "text/plain": [
       "dict_keys([11, -11, 13, -13, 211, -211, 321, -321, 2212])"
      ]
     },
     "execution_count": 58,
     "metadata": {},
     "output_type": "execute_result"
    }
   ],
   "source": [
    "stable_part_dict = {11: \"e-\",-11:\"e+\",13:\"mu-\",-13:\"mu+\", 211:\"pi+\", -211:\"pi-\",\\\n",
    "                    321:\"K+\",-321: \"K-\", 2212: \"p+\"}\n",
    "stable_part_dict.keys()"
   ]
  },
  {
   "cell_type": "code",
   "execution_count": 59,
   "metadata": {},
   "outputs": [
    {
     "data": {
      "text/plain": [
       "K+: ID=321, m=0.49 GeV, 3*q=3, width=5.3e-17 GeV, tau=1.2e+04 ps, ctau=3.7e+03 mm"
      ]
     },
     "execution_count": 59,
     "metadata": {},
     "output_type": "execute_result"
    }
   ],
   "source": [
    "pdt.get(321)"
   ]
  },
  {
   "cell_type": "markdown",
   "metadata": {},
   "source": [
    "Some conditions to be fulfilled:  <br>\n",
    "1) distance $< 0.12$ <br>\n",
    "2) $\\frac{\\lvert GenPt - TrkPt \\rvert}{GenPt}  < 0.3$"
   ]
  },
  {
   "cell_type": "code",
   "execution_count": 76,
   "metadata": {},
   "outputs": [
    {
     "name": "stdout",
     "output_type": "stream",
     "text": [
      "14.029169797897339\n"
     ]
    }
   ],
   "source": [
    "#this to run only once\n",
    "\n",
    "tic = time.time()\n",
    "genp_trk_labels =  -GenId_c.ones_like()\n",
    "\n",
    "#uncomment variables to store into and check\n",
    "#close_trks_eta = -GenEta_c.ones_like()   \n",
    "#close_trks_phi = -GenEta_c.ones_like()\n",
    "#close_trks_pt = -GenEta_c.ones_like()\n",
    "dist_gen_trk   = -GenEta_c.ones_like()\n",
    "\n",
    "# i:eventN\n",
    "def gen_trk_association(i): \n",
    "    dist = None\n",
    "    #variables\n",
    "    gen_etas = GenEta_c[i]\n",
    "    trk_etas = TrkEta[i]\n",
    "    gen_phis = GenPhi_c[i]\n",
    "    trk_phis = TrkPhi[i]\n",
    "    gen_pts = GenPt_c[i]\n",
    "    trk_pts = TrkPt[i]\n",
    "    \n",
    "    gen_ids = GenId_c[i]\n",
    "    #distance functions\n",
    "    delta_eta_square = lambda eta1,eta2: (eta1-eta2)**2\n",
    "    delta_phi_square = lambda phi1,phi2: (np.pi-np.abs(np.abs(phi1-phi2)-np.pi))**2\n",
    "    #loop over gen particles\n",
    "    for j,eta1 in enumerate(gen_etas):\n",
    "        phi1 = gen_phis[j]\n",
    "        pt1 = gen_pts[j]\n",
    "        id1 = gen_ids[j]\n",
    "        ###########################################\n",
    "        #work only with long living particles:\n",
    "        #if id1 not in stable_part_dict.keys():\n",
    "        #    continue\n",
    "    \n",
    "        ###########################################\n",
    "        #find the closest track to this gen particle\n",
    "        distance_trk = (delta_eta_square(eta1,trk_etas) + delta_phi_square(phi1,trk_phis))**0.5\n",
    "        dist = np.amin(distance_trk)\n",
    "        index = np.argmin(distance_trk) #track index\n",
    "        \n",
    "        ###########################################\n",
    "        #is this the closest gen particle to this track? If not, skip the next steps\n",
    "        distance_gen = (delta_eta_square(gen_etas,trk_etas[index])+delta_phi_square(gen_phis,trk_phis[index]))**0.5\n",
    "        dist_gen = np.amin(distance_gen)\n",
    "        index_gen = np.argmin(distance_gen) #gen index != track index\n",
    "        if j!= index_gen: \n",
    "            continue\n",
    "            \n",
    "        ##########################################\n",
    "        if dist == None:    #sth wrong\n",
    "            return False\n",
    "        ##########################################\n",
    "        #conditions\n",
    "        if dist < 0.12 and np.abs(pt1-trk_pts[index])/pt1 < 0.3:\n",
    "            #uncomment to store values\n",
    "            #close_trks_eta[i][j]  = trk_etas[index];close_trks_phi[i][j] = trk_phis[index];\n",
    "            dist_gen_trk[i][j] = dist \n",
    "            genp_trk_labels[i][j] = index\n",
    "        '''\n",
    "        dist_gen_trk[i][j] = dist \n",
    "        genp_trk_labels[i][j] = index\n",
    "        '''\n",
    "    return True\n",
    "\n",
    "N = 10000 #up to event N\n",
    "[gen_trk_association(i) for i in range(N)];\n",
    "\n",
    "toc = time.time()\n",
    "print(toc - tic)"
   ]
  },
  {
   "cell_type": "code",
   "execution_count": 73,
   "metadata": {},
   "outputs": [
    {
     "data": {
      "text/plain": [
       "121291"
      ]
     },
     "execution_count": 73,
     "metadata": {},
     "output_type": "execute_result"
    }
   ],
   "source": [
    "sum(np.concatenate(genp_trk_labels) != -1)"
   ]
  },
  {
   "cell_type": "markdown",
   "metadata": {},
   "source": [
    "Elapsed time for 10k events:12  s"
   ]
  },
  {
   "cell_type": "markdown",
   "metadata": {},
   "source": [
    "Visualize some events"
   ]
  },
  {
   "cell_type": "code",
   "execution_count": 77,
   "metadata": {},
   "outputs": [
    {
     "data": {
      "image/png": "[encoded data removed]",
      "text/plain": [
       "<matplotlib.figure.Figure at 0x7f6536e66320>"
      ]
     },
     "metadata": {
      "needs_background": "light"
     },
     "output_type": "display_data"
    }
   ],
   "source": [
    "eventN = 60\n",
    "index = (genp_trk_labels != -1)[eventN]\n",
    "trk_index = genp_trk_labels[eventN][index]\n",
    "\n",
    "plt.plot(TrkEta[eventN][trk_index],TrkPhi[eventN][trk_index],'.',c=\"b\",label = \"trk\",markersize = 8) #trk\n",
    "plt.plot(GenEta_c[eventN][index],GenPhi_c[eventN][index],'x',c=\"r\", label = \"gen\",markersize = 8) #gen\n",
    "plt.legend()\n",
    "plt.grid()\n",
    "#plt.xlim(-1,0);plt.ylim(2,3) #to zoom in"
   ]
  },
  {
   "cell_type": "markdown",
   "metadata": {},
   "source": [
    "Labels have -1 for unassigned genp and track index if assigned."
   ]
  },
  {
   "cell_type": "code",
   "execution_count": 63,
   "metadata": {},
   "outputs": [
    {
     "name": "stdout",
     "output_type": "stream",
     "text": [
      "73023 genp particles labeled out of 236552 using closest gen particle\n"
     ]
    }
   ],
   "source": [
    "print(sum(genp_trk_labels.content != -1), \"genp particles labeled out of\", len(genp_trk_labels.content),\\\n",
    "      \"using closest gen particle\") "
   ]
  },
  {
   "cell_type": "code",
   "execution_count": null,
   "metadata": {},
   "outputs": [],
   "source": []
  },
  {
   "cell_type": "code",
   "execution_count": null,
   "metadata": {},
   "outputs": [],
   "source": []
  }
 ],
 "metadata": {
  "kernelspec": {
   "display_name": "Python 3",
   "language": "python",
   "name": "python3"
  },
  "language_info": {
   "codemirror_mode": {
    "name": "ipython",
    "version": 3
   },
   "file_extension": ".py",
   "mimetype": "text/x-python",
   "name": "python",
   "nbconvert_exporter": "python",
   "pygments_lexer": "ipython3",
   "version": "3.7.1"
  }
 },
 "nbformat": 4,
 "nbformat_minor": 2
}
