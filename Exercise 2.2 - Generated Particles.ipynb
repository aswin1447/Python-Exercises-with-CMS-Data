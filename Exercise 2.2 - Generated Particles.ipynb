{
 "cells": [
  {
   "cell_type": "markdown",
   "metadata": {},
   "source": [
    "## Generated Particles in the Simulation"
   ]
  },
  {
   "cell_type": "markdown",
   "metadata": {},
   "source": [
    "We will use the pypdt package to get the particle name,charge, etc using the particle Lund code stored in the data (These are in MonteCarlo.pdf)."
   ]
  },
  {
   "cell_type": "code",
   "execution_count": 1,
   "metadata": {},
   "outputs": [],
   "source": [
    "#import resources\n",
    "import uproot as up\n",
    "import numpy as np \n",
    "import matplotlib.pyplot as plt\n",
    "import time\n",
    "import pypdt as pdt #this package contains particle id numbers if not installed, uncomment next 2 lines\n",
    "#import sys\n",
    "#!{sys.executable} -m pip install --user pypdt"
   ]
  },
  {
   "cell_type": "code",
   "execution_count": 2,
   "metadata": {},
   "outputs": [
    {
     "name": "stdout",
     "output_type": "stream",
     "text": [
      "[b'PDtree;18', b'PDtree;17']\n",
      "[b'runNumber', b'lumiSection', b'eventNumber', b'nMuons', b'muoPt', b'muoEta', b'muoPhi', b'muoE', b'muoTrk', b'muoCharge', b'muoType', b'nElectrons', b'nJets', b'jetPt', b'jetEta', b'jetPhi', b'jetE', b'jetCSV', b'jetTCHE', b'jetTrg', b'jetPF', b'jetNDau', b'jetNHF', b'jetNEF', b'jetCHF', b'jetCEF', b'jetNCH', b'nTags', b'tagJet', b'tagType', b'tagProb', b'nPF', b'pfcPt', b'pfcEta', b'pfcPhi', b'pfcE', b'pfcCharge', b'pfcJet', b'pfcTrk', b'nTracks', b'trkPt', b'trkEta', b'trkPhi', b'trkCharge', b'trkType', b'trkNext', b'trkPFC', b'trkJet', b'trkPVtx', b'trkQuality', b'trkHitPattern', b'trkLayPattern', b'trkNormChi2', b'trkPtError', b'trkDxy', b'trkDz', b'trkExy', b'trkEz', b'trkVtxPx', b'trkVtxPy', b'trkVtxPz', b'nPVTotal', b'nPVertices', b'pvtX', b'pvtY', b'pvtZ', b'pvtSxx', b'pvtSyy', b'pvtSzz', b'pvtSxy', b'pvtSxz', b'pvtSyz', b'pvtNTracks', b'pvtNormChi2', b'pvtBadQuality', b'nSVertices', b'svtX', b'svtY', b'svtZ', b'svtSxx', b'svtSyy', b'svtSzz', b'svtSxy', b'svtSxz', b'svtSyz', b'svtDirX', b'svtDirY', b'svtDirZ', b'svtType', b'svtNTracks', b'svtChi2', b'svtNDOF', b'svtMass', b'svtDist2D', b'svtSigma2D', b'svtDist3D', b'svtSigma3D', b'svtJet', b'svtBadQuality', b'nCompVts', b'nTkIPs', b'tipTrk', b'tipSVtx', b'tipMass', b'tipDxy', b'tipDz', b'tipExy', b'tipEz', b'nVtxPs', b'tvpTip', b'tvpPt', b'tvpEta', b'tvpPhi', b'nGenP', b'genId', b'genStatus', b'genMother', b'genPartner', b'genPt', b'genEta', b'genPhi', b'genE', b'genCharge', b'genMass', b'genVx', b'genVy', b'genVz']\n"
     ]
    }
   ],
   "source": [
    "#get data\n",
    "file = up.open(\"skim_BsToJPsiPhi_2017_DCAP_10000.root\")\n",
    "print(file.keys())\n",
    "data = file[\"PDtree\"]\n",
    "print(data.keys())"
   ]
  },
  {
   "cell_type": "code",
   "execution_count": 13,
   "metadata": {},
   "outputs": [],
   "source": [
    "#Generated Particles\n",
    "NGenP = data.arrays([\"nGenP\"])[b'nGenP']\n",
    "GenId = data.arrays([\"genId\"])[b'genId']\n",
    "GenStatus = data.arrays([\"genStatus\"])[b'genStatus'] \n",
    "GenMother = data.arrays([\"genMother\"])[b'genMother'] #position  in this same block of the mother particle\n",
    "GenPartner = data.arrays([\"genPartner\"])[b'genPartner']\n",
    "GenPt = data.arrays([\"genPt\"])[b'genPt']\n",
    "GenEta = data.arrays([\"genEta\"])[b'genEta']\n",
    "GenPhi = data.arrays([\"genPhi\"])[b'genPhi']\n",
    "GenE = data.arrays([\"genE\"])[b'genE']\n",
    "GenCharge = data.arrays([\"genCharge\"])[b'genCharge']\n",
    "GenMass = data.arrays([\"genMass\"])[b'genMass']\n",
    "GenVx = data.arrays([\"genVx\"])[b'genVx'] #production point\n",
    "GenVy = data.arrays([\"genVy\"])[b'genVy']\n",
    "GenVz = data.arrays([\"genVz\"])[b'genVz']"
   ]
  },
  {
   "cell_type": "markdown",
   "metadata": {},
   "source": [
    "Use pypdt:"
   ]
  },
  {
   "cell_type": "code",
   "execution_count": 8,
   "metadata": {},
   "outputs": [
    {
     "name": "stdout",
     "output_type": "stream",
     "text": [
      "nu_e: ID=12, m=0 GeV, 3*q=0, width=0 GeV\n",
      "Number 12 is a nu_e\n"
     ]
    }
   ],
   "source": [
    "print(pdt.get(\"12\"))\n",
    "print(\"Number 12 is a\",pdt.get(\"12\").name)  # electron neutrino"
   ]
  },
  {
   "cell_type": "code",
   "execution_count": 10,
   "metadata": {},
   "outputs": [
    {
     "name": "stdout",
     "output_type": "stream",
     "text": [
      "mu-: ID=13, m=0.11 GeV, 3*q=-3, width=3e-19 GeV, tau=2.2e+06 ps, ctau=6.6e+05 mm\n",
      "Number 13 is mu- and has charge: -1.0\n"
     ]
    }
   ],
   "source": [
    "print(pdt.get(\"13\"))\n",
    "print(\"Number 13 is\",pdt.get(\"13\").name,\"and has charge:\",pdt.get(\"13\").charge)  # negatively charged muon"
   ]
  },
  {
   "cell_type": "markdown",
   "metadata": {},
   "source": [
    "Antiparticles have the oppositely signed numbers, but these are not implemented, so we should write a function ourselves."
   ]
  },
  {
   "cell_type": "code",
   "execution_count": 11,
   "metadata": {},
   "outputs": [
    {
     "name": "stdout",
     "output_type": "stream",
     "text": [
      "None\n"
     ]
    }
   ],
   "source": [
    "print(pdt.get(\"-13\"))"
   ]
  },
  {
   "cell_type": "code",
   "execution_count": null,
   "metadata": {},
   "outputs": [],
   "source": [
    "#TO DO: Write a function that takes a number as input, \n",
    "        #checks if it is implemented in pypdt, if not identifies the particle and it's charge\n",
    "        #e.g. if the input is -13, output should be: \"antimuon\",+1\n",
    "        #if the particle is not recognized either way, we should know\n",
    "        \n",
    "#def get_name_charge(N):\n",
    "    #..."
   ]
  },
  {
   "cell_type": "markdown",
   "metadata": {},
   "source": [
    "The Lund code is stored in GenId."
   ]
  },
  {
   "cell_type": "code",
   "execution_count": 21,
   "metadata": {},
   "outputs": [
    {
     "data": {
      "text/plain": [
       "<JaggedArray [[ 2212  2212     4    21     4    21     4     4     5    -5     4     4     4     5    -5     4     5    -5    -4     4     5    -5    -4     5     4     5    -5    -4    -4     4     5    -5    -4     4     5    -5    -4     2    -2    -2     2    -2     4    -5   431   533     1  2212     2    -3    -4 -4122    21  2212  2212    21    21    21    21    21    21    21    21  2212     5    -1  -523  2212   333   130   310   -13    14   531    22   -11    11 -3222  -211   211   310   310  2212   -11    11  -521   421  -323   111   213   111    11   -12    22  -531   443   -13    13   333   321  -321] [2212 2212   21   -5   21   -5   -5   -5   -5    5   -5    5   -5   -5    5   -5    5    5   21   21   21    5   -5 -513  333  533 2212 2212 -511  111 -211  413  421 -323 -311  213  111  211   22  321 -321  -11   11  531   22 -531  443  -13   13   22   22  333  321 -321] [2212 2212   21   -5   21   -5   -5    5   -5    5   -5    5   -5   -5    5   -5    5    5 2101 -523    2   21   21   21   21   -5  533 2212  333 2212 -521  421 -323 -311  213  111  221  111 -213  111   22  -11   11  531   22  321 -321 -531  443  -13   13  333  321 -321] ... [2212 2212   21    5   21    5    5    5    5   -5    5   -5    5   -5    5    5   -5    5   -5    2 2212    5   21   21   21   21   21   21   -5 -531  523    2 2101  521 -423 -421  130  331  221   22  213  111   22  -11   11  -11   11  531  443  -13   13  333  321 -321] [2212 2212   21   21    5   -5    5   -5    5   -5    5   -5   -5    5   -5   21   -5  523    5 2101 -531 2212  521 -423 -421  211 -211  111  111  111   22 -211  211  211  111   22 2212 2212  -11   11  531  443  -13   13  333  321 -321] [2212 2212   21   21   21   21   21    5   -5    5   -5   -5    5   -5    5   -5    5   -5    5   -5    1   21   21   21   21   21   21   21   21   21   21   -5  513    5 2203 -533 2212    2   21  -11   11  511 -413 -411  333 -213  111  211 -211  111  -11   12   22 -531   22 2212  531  443  -13   13  333  321 -321]] at 7f8ebd8107b8>"
      ]
     },
     "execution_count": 21,
     "metadata": {},
     "output_type": "execute_result"
    }
   ],
   "source": [
    "GenId"
   ]
  },
  {
   "cell_type": "markdown",
   "metadata": {},
   "source": [
    "We are interested in the charged particles. Charge Info is stored in the GenCharge variable."
   ]
  },
  {
   "cell_type": "code",
   "execution_count": 24,
   "metadata": {},
   "outputs": [],
   "source": [
    "#TO DO: Check that antimuons (GenId = -13) has +1 charge (GenCharge = 1)"
   ]
  },
  {
   "cell_type": "code",
   "execution_count": 26,
   "metadata": {},
   "outputs": [],
   "source": [
    "#(Like in Ex 2.1)\n",
    "#TO DO: How many of the particles are charged in total? \n",
    "\n",
    "#TO DO: How many charged particles per event? (No concatenation)\n",
    "\n",
    "#TO DO: Select and store only the charged particles in the GenId, GenPt, GenEta, GenPhi, GenE, GenCharge,\n",
    "        #GenMother, GenPartner, etc (using always the same index!)\n"
   ]
  },
  {
   "cell_type": "code",
   "execution_count": 28,
   "metadata": {},
   "outputs": [],
   "source": [
    "#(Like in Ex 1)\n",
    "#TO DO: Plot GenEta vs GenPhi for some events"
   ]
  },
  {
   "cell_type": "code",
   "execution_count": 27,
   "metadata": {},
   "outputs": [],
   "source": [
    "#After filtering out the neutral particles IN GENID, create a table for an event with the following format:\n",
    "#1)GenParticle- Lundcode     2)GenP-Name (with your function)     3)GenP-Charge (from GenCharge)\n",
    "#4)GenMotherParticle - Lundcode  5)GenMotherP- Name (with your function) 6)GenPartnerP - Lundcode\n",
    "#7)GenPartnerP - Name (with your function)\n"
   ]
  },
  {
   "cell_type": "code",
   "execution_count": null,
   "metadata": {},
   "outputs": [],
   "source": []
  }
 ],
 "metadata": {
  "kernelspec": {
   "display_name": "Python 3",
   "language": "python",
   "name": "python3"
  },
  "language_info": {
   "codemirror_mode": {
    "name": "ipython",
    "version": 3
   },
   "file_extension": ".py",
   "mimetype": "text/x-python",
   "name": "python",
   "nbconvert_exporter": "python",
   "pygments_lexer": "ipython3",
   "version": "3.7.1"
  }
 },
 "nbformat": 4,
 "nbformat_minor": 2
}
