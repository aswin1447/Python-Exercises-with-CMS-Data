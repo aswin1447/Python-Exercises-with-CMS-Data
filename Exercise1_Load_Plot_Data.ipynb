{
 "cells": [
  {
   "cell_type": "markdown",
   "metadata": {},
   "source": [
    "# Some exercises about accessing data with numpy"
   ]
  },
  {
   "cell_type": "markdown",
   "metadata": {},
   "source": [
    "Most of the data analysis for high energy physics is done using a software toolkit called ROOT, which is mainly C++ and can be integrated with Python and R. It is quite cumbersome to install/run (at least for now). So we will use a package called uproot, that reads/writes ROOT files without having ROOT or C++."
   ]
  },
  {
   "cell_type": "markdown",
   "metadata": {},
   "source": [
    "So let's install it! In principle you can install uproot with Conda, but saves time to do this inside the notebook for this exercise."
   ]
  },
  {
   "cell_type": "markdown",
   "metadata": {},
   "source": [
    "Add ! in the beginning to run a shell command within the notebook. "
   ]
  },
  {
   "cell_type": "code",
   "execution_count": null,
   "metadata": {},
   "outputs": [],
   "source": [
    "#Uncomment to try. This should be fine but safer the following way.\n",
    "#!pip install uproot\n",
    "\n",
    "import sys\n",
    "!{sys.executable} -m pip install uproot"
   ]
  },
  {
   "cell_type": "markdown",
   "metadata": {},
   "source": [
    "You should see something like this:\n",
    "<img src=\"files/output1.png\">"
   ]
  },
  {
   "cell_type": "markdown",
   "metadata": {},
   "source": [
    "Import uproot and numpy"
   ]
  },
  {
   "cell_type": "code",
   "execution_count": null,
   "metadata": {},
   "outputs": [],
   "source": [
    "import uproot as up\n",
    "import numpy as np"
   ]
  },
  {
   "cell_type": "markdown",
   "metadata": {},
   "source": [
    "Next up is accessing the ROOT file. In the zip file you have an example Monte Carlo sample with 10000 events. We will work with bigger samples later. We look at the variables stored in the ROOT file (there are a lot of them here, we will discuss them later)."
   ]
  },
  {
   "cell_type": "code",
   "execution_count": null,
   "metadata": {
    "scrolled": true
   },
   "outputs": [],
   "source": [
    "file = up.open(\"skim_BsToJPsiPhi_2017_DCAP_10000.root\")\n",
    "print(file.keys())\n",
    "data = file[\"PDtree\"]\n",
    "print(data.keys())"
   ]
  },
  {
   "cell_type": "markdown",
   "metadata": {},
   "source": [
    "We would like to have these set of variables as numpy arrays, for example number of tracks,track transverse momentum, track eta,track phi and track charge."
   ]
  },
  {
   "cell_type": "code",
   "execution_count": null,
   "metadata": {},
   "outputs": [],
   "source": [
    "ntracks = data.arrays([\"nTracks\"]) #this is now a Python dictionary\n",
    "print(type(ntracks))\n",
    "print(ntracks.keys())\n",
    "Ntracks = ntracks[b'nTracks'] # this is now a numpy array\n",
    "print(type(Ntracks),Ntracks.shape)"
   ]
  },
  {
   "cell_type": "markdown",
   "metadata": {},
   "source": [
    "Other track variable arrays to look at:"
   ]
  },
  {
   "cell_type": "code",
   "execution_count": null,
   "metadata": {},
   "outputs": [],
   "source": [
    "TrkPt = data.arrays([\"trkPt\"])[b'trkPt']\n",
    "TrkEta = data.arrays([\"trkEta\"])[b'trkEta']\n",
    "TrkPhi = data.arrays([\"trkPhi\"])[b'trkPhi']\n",
    "TrkCharge = data.arrays([\"trkCharge\"])[b'trkCharge']"
   ]
  },
  {
   "cell_type": "markdown",
   "metadata": {},
   "source": [
    "In some cases we have arrays of arrays and these arrays (inside the main array) don't necessarily have the same length, so cannot be expressed as numpy arrays. Uproot loads them into jagged arrays. Now what does that mean? Let's have a look at one of them."
   ]
  },
  {
   "cell_type": "code",
   "execution_count": null,
   "metadata": {},
   "outputs": [],
   "source": [
    "print(type(TrkEta))\n",
    "for i,eta in enumerate(TrkEta[:5]): #first 5 arrays\n",
    "    print('##################### event number: ',i+1) #to make it visible easily\n",
    "    for eta2 in eta:\n",
    "        print(eta2)"
   ]
  },
  {
   "cell_type": "markdown",
   "metadata": {},
   "source": [
    "Jagged arrays are backed by numpy so we can do operations on them pretty fast and still preserve the same structure. \n",
    "\n",
    "Numpy exercise: Calculation with numpy arrays."
   ]
  },
  {
   "cell_type": "code",
   "execution_count": null,
   "metadata": {},
   "outputs": [],
   "source": [
    "#TO DO: Create two arrays with the z impact parameter of tracks (variable: tipDz) and the associated error \n",
    "#       (variable: tipEz). Divide tipDz values by the tipEz values. \n",
    "\n",
    "\n",
    "\n",
    "#TO DO: Get the maximum (minimum/mean/etc) of all elements in the TrkPt jagged array (use np.concatenate,np.max). \n",
    "\n",
    "\n",
    "\n",
    "\n",
    "#TO DO: Get maximum Pt per event (per array) in the TrkPt jagged array (use TrkPt.max(), this is the built-in max \n",
    "#       and not np.max). What shape does the result have? Divide the jagged array by the new array created.\n",
    "\n",
    "\n",
    "\n"
   ]
  },
  {
   "cell_type": "markdown",
   "metadata": {},
   "source": [
    "Let's have a look at muon variables."
   ]
  },
  {
   "cell_type": "code",
   "execution_count": null,
   "metadata": {},
   "outputs": [],
   "source": [
    "Nmuons = data.arrays([\"nMuons\"])[b'nMuons']\n",
    "MuoE = data.arrays([\"muoE\"])[b'muoE']\n",
    "print(Nmuons[5]) #element registered in the 6th array\n",
    "print(len(MuoE[5])) #number of elements "
   ]
  },
  {
   "cell_type": "code",
   "execution_count": null,
   "metadata": {},
   "outputs": [],
   "source": [
    "MuoPt = data.arrays([\"muoPt\"])[b'muoPt']\n",
    "MuoEta = data.arrays([\"muoEta\"])[b'muoEta']\n",
    "MuoPhi = data.arrays([\"muoPhi\"])[b'muoPhi']\n",
    "MuoCharge = data.arrays([\"muoCharge\"])[b'muoCharge']"
   ]
  },
  {
   "cell_type": "markdown",
   "metadata": {},
   "source": [
    "Matplotlib exercise: Visualize some events."
   ]
  },
  {
   "cell_type": "code",
   "execution_count": null,
   "metadata": {},
   "outputs": [],
   "source": [
    "import matplotlib.pyplot as plt"
   ]
  },
  {
   "cell_type": "code",
   "execution_count": null,
   "metadata": {},
   "outputs": [],
   "source": [
    "#TO DO: Plot MuoPt vs MuoEta, MuoPt vs MuoPhi and MuoEta vs MuoPhi for some events,I used the first 15(use plt.plot \n",
    "#       or plt.scatter). I set the marker size for the last plot with the Pt value. The higher the Pt, the bigger \n",
    "#       the marker.\n",
    "\n",
    "\n",
    "\n"
   ]
  },
  {
   "cell_type": "markdown",
   "metadata": {},
   "source": [
    "My solution:\n",
    "<img src=\"files/output2.png\">"
   ]
  }
 ],
 "metadata": {
  "kernelspec": {
   "display_name": "Python 2",
   "language": "python",
   "name": "python2"
  },
  "language_info": {
   "codemirror_mode": {
    "name": "ipython",
    "version": 3
   },
   "file_extension": ".py",
   "mimetype": "text/x-python",
   "name": "python",
   "nbconvert_exporter": "python",
   "pygments_lexer": "ipython3",
   "version": "3.6.7"
  }
 },
 "nbformat": 4,
 "nbformat_minor": 2
}
